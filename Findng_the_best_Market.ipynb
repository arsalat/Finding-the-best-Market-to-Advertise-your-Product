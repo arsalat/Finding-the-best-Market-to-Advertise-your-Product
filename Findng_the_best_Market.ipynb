{
 "cells": [
  {
   "cell_type": "markdown",
   "metadata": {},
   "source": [
    "Introduction:\n",
    "\n",
    "Let's assume that we're working for an an e-learning company that offers courses on programming. \n",
    "\n",
    "Most of our courses are on web and mobile development, but we also cover many other domains, like data science, game development, etc. We want to promote our product and we'd like to invest some money in advertisement. \n",
    "\n",
    "Our goal in this project is to find out the two best markets to advertise our product in."
   ]
  },
  {
   "cell_type": "code",
   "execution_count": 69,
   "metadata": {
    "collapsed": false
   },
   "outputs": [],
   "source": [
    "import pandas as pd\n",
    "import numpy as np"
   ]
  },
  {
   "cell_type": "code",
   "execution_count": 70,
   "metadata": {
    "collapsed": false
   },
   "outputs": [],
   "source": [
    "# loading our data\n",
    "sdata = pd.read_csv(\"2017-fCC-New-Coders-Survey-Data.csv\", low_memory = False)"
   ]
  },
  {
   "cell_type": "code",
   "execution_count": 71,
   "metadata": {
    "collapsed": false
   },
   "outputs": [
    {
     "name": "stdout",
     "output_type": "stream",
     "text": [
      "(18175, 136)\n"
     ]
    }
   ],
   "source": [
    "# checking number of rows and columns\n",
    "print(sdata.shape)\n"
   ]
  },
  {
   "cell_type": "code",
   "execution_count": 72,
   "metadata": {
    "collapsed": false
   },
   "outputs": [
    {
     "data": {
      "text/html": [
       "<div>\n",
       "<style scoped>\n",
       "    .dataframe tbody tr th:only-of-type {\n",
       "        vertical-align: middle;\n",
       "    }\n",
       "\n",
       "    .dataframe tbody tr th {\n",
       "        vertical-align: top;\n",
       "    }\n",
       "\n",
       "    .dataframe thead th {\n",
       "        text-align: right;\n",
       "    }\n",
       "</style>\n",
       "<table border=\"1\" class=\"dataframe\">\n",
       "  <thead>\n",
       "    <tr style=\"text-align: right;\">\n",
       "      <th></th>\n",
       "      <th>Age</th>\n",
       "      <th>AttendedBootcamp</th>\n",
       "      <th>BootcampFinish</th>\n",
       "      <th>BootcampLoanYesNo</th>\n",
       "      <th>BootcampName</th>\n",
       "      <th>BootcampRecommend</th>\n",
       "      <th>ChildrenNumber</th>\n",
       "      <th>CityPopulation</th>\n",
       "      <th>CodeEventConferences</th>\n",
       "      <th>CodeEventDjangoGirls</th>\n",
       "      <th>...</th>\n",
       "      <th>YouTubeFCC</th>\n",
       "      <th>YouTubeFunFunFunction</th>\n",
       "      <th>YouTubeGoogleDev</th>\n",
       "      <th>YouTubeLearnCode</th>\n",
       "      <th>YouTubeLevelUpTuts</th>\n",
       "      <th>YouTubeMIT</th>\n",
       "      <th>YouTubeMozillaHacks</th>\n",
       "      <th>YouTubeOther</th>\n",
       "      <th>YouTubeSimplilearn</th>\n",
       "      <th>YouTubeTheNewBoston</th>\n",
       "    </tr>\n",
       "  </thead>\n",
       "  <tbody>\n",
       "    <tr>\n",
       "      <th>0</th>\n",
       "      <td>27.0</td>\n",
       "      <td>0.0</td>\n",
       "      <td>NaN</td>\n",
       "      <td>NaN</td>\n",
       "      <td>NaN</td>\n",
       "      <td>NaN</td>\n",
       "      <td>NaN</td>\n",
       "      <td>more than 1 million</td>\n",
       "      <td>NaN</td>\n",
       "      <td>NaN</td>\n",
       "      <td>...</td>\n",
       "      <td>NaN</td>\n",
       "      <td>NaN</td>\n",
       "      <td>NaN</td>\n",
       "      <td>NaN</td>\n",
       "      <td>NaN</td>\n",
       "      <td>NaN</td>\n",
       "      <td>NaN</td>\n",
       "      <td>NaN</td>\n",
       "      <td>NaN</td>\n",
       "      <td>NaN</td>\n",
       "    </tr>\n",
       "    <tr>\n",
       "      <th>1</th>\n",
       "      <td>34.0</td>\n",
       "      <td>0.0</td>\n",
       "      <td>NaN</td>\n",
       "      <td>NaN</td>\n",
       "      <td>NaN</td>\n",
       "      <td>NaN</td>\n",
       "      <td>NaN</td>\n",
       "      <td>less than 100,000</td>\n",
       "      <td>NaN</td>\n",
       "      <td>NaN</td>\n",
       "      <td>...</td>\n",
       "      <td>1.0</td>\n",
       "      <td>NaN</td>\n",
       "      <td>NaN</td>\n",
       "      <td>NaN</td>\n",
       "      <td>NaN</td>\n",
       "      <td>NaN</td>\n",
       "      <td>NaN</td>\n",
       "      <td>NaN</td>\n",
       "      <td>NaN</td>\n",
       "      <td>NaN</td>\n",
       "    </tr>\n",
       "    <tr>\n",
       "      <th>2</th>\n",
       "      <td>21.0</td>\n",
       "      <td>0.0</td>\n",
       "      <td>NaN</td>\n",
       "      <td>NaN</td>\n",
       "      <td>NaN</td>\n",
       "      <td>NaN</td>\n",
       "      <td>NaN</td>\n",
       "      <td>more than 1 million</td>\n",
       "      <td>NaN</td>\n",
       "      <td>NaN</td>\n",
       "      <td>...</td>\n",
       "      <td>NaN</td>\n",
       "      <td>NaN</td>\n",
       "      <td>NaN</td>\n",
       "      <td>1.0</td>\n",
       "      <td>1.0</td>\n",
       "      <td>NaN</td>\n",
       "      <td>NaN</td>\n",
       "      <td>NaN</td>\n",
       "      <td>NaN</td>\n",
       "      <td>NaN</td>\n",
       "    </tr>\n",
       "    <tr>\n",
       "      <th>3</th>\n",
       "      <td>26.0</td>\n",
       "      <td>0.0</td>\n",
       "      <td>NaN</td>\n",
       "      <td>NaN</td>\n",
       "      <td>NaN</td>\n",
       "      <td>NaN</td>\n",
       "      <td>NaN</td>\n",
       "      <td>between 100,000 and 1 million</td>\n",
       "      <td>NaN</td>\n",
       "      <td>NaN</td>\n",
       "      <td>...</td>\n",
       "      <td>1.0</td>\n",
       "      <td>1.0</td>\n",
       "      <td>NaN</td>\n",
       "      <td>NaN</td>\n",
       "      <td>1.0</td>\n",
       "      <td>NaN</td>\n",
       "      <td>NaN</td>\n",
       "      <td>NaN</td>\n",
       "      <td>NaN</td>\n",
       "      <td>NaN</td>\n",
       "    </tr>\n",
       "    <tr>\n",
       "      <th>4</th>\n",
       "      <td>20.0</td>\n",
       "      <td>0.0</td>\n",
       "      <td>NaN</td>\n",
       "      <td>NaN</td>\n",
       "      <td>NaN</td>\n",
       "      <td>NaN</td>\n",
       "      <td>NaN</td>\n",
       "      <td>between 100,000 and 1 million</td>\n",
       "      <td>NaN</td>\n",
       "      <td>NaN</td>\n",
       "      <td>...</td>\n",
       "      <td>NaN</td>\n",
       "      <td>NaN</td>\n",
       "      <td>NaN</td>\n",
       "      <td>NaN</td>\n",
       "      <td>NaN</td>\n",
       "      <td>NaN</td>\n",
       "      <td>NaN</td>\n",
       "      <td>NaN</td>\n",
       "      <td>NaN</td>\n",
       "      <td>NaN</td>\n",
       "    </tr>\n",
       "  </tbody>\n",
       "</table>\n",
       "<p>5 rows × 136 columns</p>\n",
       "</div>"
      ],
      "text/plain": [
       "    Age  AttendedBootcamp  BootcampFinish  BootcampLoanYesNo BootcampName  \\\n",
       "0  27.0               0.0             NaN                NaN          NaN   \n",
       "1  34.0               0.0             NaN                NaN          NaN   \n",
       "2  21.0               0.0             NaN                NaN          NaN   \n",
       "3  26.0               0.0             NaN                NaN          NaN   \n",
       "4  20.0               0.0             NaN                NaN          NaN   \n",
       "\n",
       "   BootcampRecommend  ChildrenNumber                 CityPopulation  \\\n",
       "0                NaN             NaN            more than 1 million   \n",
       "1                NaN             NaN              less than 100,000   \n",
       "2                NaN             NaN            more than 1 million   \n",
       "3                NaN             NaN  between 100,000 and 1 million   \n",
       "4                NaN             NaN  between 100,000 and 1 million   \n",
       "\n",
       "   CodeEventConferences  CodeEventDjangoGirls         ...           \\\n",
       "0                   NaN                   NaN         ...            \n",
       "1                   NaN                   NaN         ...            \n",
       "2                   NaN                   NaN         ...            \n",
       "3                   NaN                   NaN         ...            \n",
       "4                   NaN                   NaN         ...            \n",
       "\n",
       "   YouTubeFCC  YouTubeFunFunFunction  YouTubeGoogleDev  YouTubeLearnCode  \\\n",
       "0         NaN                    NaN               NaN               NaN   \n",
       "1         1.0                    NaN               NaN               NaN   \n",
       "2         NaN                    NaN               NaN               1.0   \n",
       "3         1.0                    1.0               NaN               NaN   \n",
       "4         NaN                    NaN               NaN               NaN   \n",
       "\n",
       "   YouTubeLevelUpTuts  YouTubeMIT  YouTubeMozillaHacks YouTubeOther  \\\n",
       "0                 NaN         NaN                  NaN          NaN   \n",
       "1                 NaN         NaN                  NaN          NaN   \n",
       "2                 1.0         NaN                  NaN          NaN   \n",
       "3                 1.0         NaN                  NaN          NaN   \n",
       "4                 NaN         NaN                  NaN          NaN   \n",
       "\n",
       "   YouTubeSimplilearn  YouTubeTheNewBoston  \n",
       "0                 NaN                  NaN  \n",
       "1                 NaN                  NaN  \n",
       "2                 NaN                  NaN  \n",
       "3                 NaN                  NaN  \n",
       "4                 NaN                  NaN  \n",
       "\n",
       "[5 rows x 136 columns]"
      ]
     },
     "execution_count": 72,
     "metadata": {},
     "output_type": "execute_result"
    }
   ],
   "source": [
    "#printing first 5 rows\n",
    "sdata.iloc[0:5]"
   ]
  },
  {
   "cell_type": "code",
   "execution_count": 73,
   "metadata": {
    "collapsed": false
   },
   "outputs": [
    {
     "data": {
      "text/plain": [
       "['Age',\n",
       " 'AttendedBootcamp',\n",
       " 'BootcampFinish',\n",
       " 'BootcampLoanYesNo',\n",
       " 'BootcampName',\n",
       " 'BootcampRecommend',\n",
       " 'ChildrenNumber',\n",
       " 'CityPopulation',\n",
       " 'CodeEventConferences',\n",
       " 'CodeEventDjangoGirls',\n",
       " 'CodeEventFCC',\n",
       " 'CodeEventGameJam',\n",
       " 'CodeEventGirlDev',\n",
       " 'CodeEventHackathons',\n",
       " 'CodeEventMeetup',\n",
       " 'CodeEventNodeSchool',\n",
       " 'CodeEventNone',\n",
       " 'CodeEventOther',\n",
       " 'CodeEventRailsBridge',\n",
       " 'CodeEventRailsGirls',\n",
       " 'CodeEventStartUpWknd',\n",
       " 'CodeEventWkdBootcamps',\n",
       " 'CodeEventWomenCode',\n",
       " 'CodeEventWorkshops',\n",
       " 'CommuteTime',\n",
       " 'CountryCitizen',\n",
       " 'CountryLive',\n",
       " 'EmploymentField',\n",
       " 'EmploymentFieldOther',\n",
       " 'EmploymentStatus',\n",
       " 'EmploymentStatusOther',\n",
       " 'ExpectedEarning',\n",
       " 'FinanciallySupporting',\n",
       " 'FirstDevJob',\n",
       " 'Gender',\n",
       " 'GenderOther',\n",
       " 'HasChildren',\n",
       " 'HasDebt',\n",
       " 'HasFinancialDependents',\n",
       " 'HasHighSpdInternet',\n",
       " 'HasHomeMortgage',\n",
       " 'HasServedInMilitary',\n",
       " 'HasStudentDebt',\n",
       " 'HomeMortgageOwe',\n",
       " 'HoursLearning',\n",
       " 'ID.x',\n",
       " 'ID.y',\n",
       " 'Income',\n",
       " 'IsEthnicMinority',\n",
       " 'IsReceiveDisabilitiesBenefits',\n",
       " 'IsSoftwareDev',\n",
       " 'IsUnderEmployed',\n",
       " 'JobApplyWhen',\n",
       " 'JobInterestBackEnd',\n",
       " 'JobInterestDataEngr',\n",
       " 'JobInterestDataSci',\n",
       " 'JobInterestDevOps',\n",
       " 'JobInterestFrontEnd',\n",
       " 'JobInterestFullStack',\n",
       " 'JobInterestGameDev',\n",
       " 'JobInterestInfoSec',\n",
       " 'JobInterestMobile',\n",
       " 'JobInterestOther',\n",
       " 'JobInterestProjMngr',\n",
       " 'JobInterestQAEngr',\n",
       " 'JobInterestUX',\n",
       " 'JobPref',\n",
       " 'JobRelocateYesNo',\n",
       " 'JobRoleInterest',\n",
       " 'JobWherePref',\n",
       " 'LanguageAtHome',\n",
       " 'MaritalStatus',\n",
       " 'MoneyForLearning',\n",
       " 'MonthsProgramming',\n",
       " 'NetworkID',\n",
       " 'Part1EndTime',\n",
       " 'Part1StartTime',\n",
       " 'Part2EndTime',\n",
       " 'Part2StartTime',\n",
       " 'PodcastChangeLog',\n",
       " 'PodcastCodeNewbie',\n",
       " 'PodcastCodePen',\n",
       " 'PodcastDevTea',\n",
       " 'PodcastDotNET',\n",
       " 'PodcastGiantRobots',\n",
       " 'PodcastJSAir',\n",
       " 'PodcastJSJabber',\n",
       " 'PodcastNone',\n",
       " 'PodcastOther',\n",
       " 'PodcastProgThrowdown',\n",
       " 'PodcastRubyRogues',\n",
       " 'PodcastSEDaily',\n",
       " 'PodcastSERadio',\n",
       " 'PodcastShopTalk',\n",
       " 'PodcastTalkPython',\n",
       " 'PodcastTheWebAhead',\n",
       " 'ResourceCodecademy',\n",
       " 'ResourceCodeWars',\n",
       " 'ResourceCoursera',\n",
       " 'ResourceCSS',\n",
       " 'ResourceEdX',\n",
       " 'ResourceEgghead',\n",
       " 'ResourceFCC',\n",
       " 'ResourceHackerRank',\n",
       " 'ResourceKA',\n",
       " 'ResourceLynda',\n",
       " 'ResourceMDN',\n",
       " 'ResourceOdinProj',\n",
       " 'ResourceOther',\n",
       " 'ResourcePluralSight',\n",
       " 'ResourceSkillcrush',\n",
       " 'ResourceSO',\n",
       " 'ResourceTreehouse',\n",
       " 'ResourceUdacity',\n",
       " 'ResourceUdemy',\n",
       " 'ResourceW3S',\n",
       " 'SchoolDegree',\n",
       " 'SchoolMajor',\n",
       " 'StudentDebtOwe',\n",
       " 'YouTubeCodeCourse',\n",
       " 'YouTubeCodingTrain',\n",
       " 'YouTubeCodingTut360',\n",
       " 'YouTubeComputerphile',\n",
       " 'YouTubeDerekBanas',\n",
       " 'YouTubeDevTips',\n",
       " 'YouTubeEngineeredTruth',\n",
       " 'YouTubeFCC',\n",
       " 'YouTubeFunFunFunction',\n",
       " 'YouTubeGoogleDev',\n",
       " 'YouTubeLearnCode',\n",
       " 'YouTubeLevelUpTuts',\n",
       " 'YouTubeMIT',\n",
       " 'YouTubeMozillaHacks',\n",
       " 'YouTubeOther',\n",
       " 'YouTubeSimplilearn',\n",
       " 'YouTubeTheNewBoston']"
      ]
     },
     "execution_count": 73,
     "metadata": {},
     "output_type": "execute_result"
    }
   ],
   "source": [
    "# investigating the columns to isolate our columns if interest\n",
    "sdata.columns.tolist()\n"
   ]
  },
  {
   "cell_type": "markdown",
   "metadata": {},
   "source": [
    "1. In order to find the best markets to advertise our products in, we could do surveys for different markets to understand consumer interest. However, this willbe costly. So let's use existing data from  freeCodeCamp's 2017 New Coder Survey. \n",
    "\n",
    "2. freeCodeCamp is a free e-learning platform that offers courses on web development and their survery attracted coders from varios backgrounds.\n",
    "\n",
    "3. Survey details: https://medium.freecodecamp.org/we-asked-20-000-people-who-they-are-and-how-theyre-learning-to-code-fff5d668969\n",
    "\n",
    "4. Data Source: https://github.com/freeCodeCamp/2017-new-coder-survey"
   ]
  },
  {
   "cell_type": "markdown",
   "metadata": {},
   "source": [
    "We are looking for coders who are interested in areas other than web development (data science, game development, video). We will try to answer the following initial questions to see whether the sample we have is representative for our population of interest.\n",
    "\n",
    "Where are these new coders located.\n",
    "What are the locations with the greatest number of new coders.\n",
    "How much money new coders are willing to spend on learning."
   ]
  },
  {
   "cell_type": "markdown",
   "metadata": {},
   "source": [
    "The JobRoleInterest column describes for every participant the role they'd be interested in working. Lets generate a frequency table for this column.\n"
   ]
  },
  {
   "cell_type": "code",
   "execution_count": 74,
   "metadata": {
    "collapsed": false
   },
   "outputs": [
    {
     "data": {
      "text/plain": [
       "Full-Stack Web Developer                                                                                                                                                                                                 11.770595\n",
       "  Front-End Web Developer                                                                                                                                                                                                 6.435927\n",
       "  Data Scientist                                                                                                                                                                                                          2.173913\n",
       "Back-End Web Developer                                                                                                                                                                                                    2.030892\n",
       "  Mobile Developer                                                                                                                                                                                                        1.673341\n",
       "Game Developer                                                                                                                                                                                                            1.630435\n",
       "Information Security                                                                                                                                                                                                      1.315789\n",
       "Full-Stack Web Developer,   Front-End Web Developer                                                                                                                                                                       0.915332\n",
       "  Front-End Web Developer, Full-Stack Web Developer                                                                                                                                                                       0.800915\n",
       "  Product Manager                                                                                                                                                                                                         0.786613\n",
       "Data Engineer                                                                                                                                                                                                             0.758009\n",
       "  User Experience Designer                                                                                                                                                                                                0.743707\n",
       "  User Experience Designer,   Front-End Web Developer                                                                                                                                                                     0.614989\n",
       "  Front-End Web Developer, Back-End Web Developer, Full-Stack Web Developer                                                                                                                                               0.557780\n",
       "Back-End Web Developer, Full-Stack Web Developer,   Front-End Web Developer                                                                                                                                               0.514874\n",
       "Back-End Web Developer,   Front-End Web Developer, Full-Stack Web Developer                                                                                                                                               0.514874\n",
       "  DevOps / SysAdmin                                                                                                                                                                                                       0.514874\n",
       "Full-Stack Web Developer,   Front-End Web Developer, Back-End Web Developer                                                                                                                                               0.443364\n",
       "  Front-End Web Developer, Full-Stack Web Developer, Back-End Web Developer                                                                                                                                               0.429062\n",
       "Full-Stack Web Developer,   Mobile Developer                                                                                                                                                                              0.414760\n",
       "  Front-End Web Developer,   User Experience Designer                                                                                                                                                                     0.414760\n",
       "Back-End Web Developer, Full-Stack Web Developer                                                                                                                                                                          0.386156\n",
       "Full-Stack Web Developer, Back-End Web Developer                                                                                                                                                                          0.371854\n",
       "Back-End Web Developer,   Front-End Web Developer                                                                                                                                                                         0.286041\n",
       "Full-Stack Web Developer, Back-End Web Developer,   Front-End Web Developer                                                                                                                                               0.271739\n",
       "Data Engineer,   Data Scientist                                                                                                                                                                                           0.271739\n",
       "  Front-End Web Developer,   Mobile Developer                                                                                                                                                                             0.257437\n",
       "Full-Stack Web Developer,   Data Scientist                                                                                                                                                                                0.243135\n",
       "  Data Scientist, Data Engineer                                                                                                                                                                                           0.228833\n",
       "  Mobile Developer, Game Developer                                                                                                                                                                                        0.228833\n",
       "                                                                                                                                                                                                                           ...    \n",
       "Back-End Web Developer, Data Engineer,   Mobile Developer, Full-Stack Web Developer,   Data Scientist,   Front-End Web Developer                                                                                          0.014302\n",
       "  User Experience Designer,   Front-End Web Developer, Game Developer, Back-End Web Developer,   Mobile Developer, Full-Stack Web Developer                                                                               0.014302\n",
       "Information Security, Game Developer,   Product Manager                                                                                                                                                                   0.014302\n",
       "Back-End Web Developer, Full-Stack Web Developer,   Quality Assurance Engineer,   Product Manager                                                                                                                         0.014302\n",
       "Back-End Web Developer,   DevOps / SysAdmin,   Data Scientist, Data Engineer, Full-Stack Web Developer                                                                                                                    0.014302\n",
       "  User Experience Designer, Full-Stack Web Developer,   Mobile Developer                                                                                                                                                  0.014302\n",
       "Full-Stack Web Developer, Game Developer,   Product Manager, Data Engineer,   Data Scientist                                                                                                                              0.014302\n",
       "  Front-End Web Developer,   User Experience Designer, Information Security, Game Developer,   Mobile Developer, Full-Stack Web Developer                                                                                 0.014302\n",
       "Information Security,   Mobile Developer,   Front-End Web Developer, Full-Stack Web Developer, Back-End Web Developer, Game Developer                                                                                     0.014302\n",
       "Back-End Web Developer, Full-Stack Web Developer, Game Developer,   DevOps / SysAdmin,   Mobile Developer,   Front-End Web Developer,   User Experience Designer                                                          0.014302\n",
       "improving in my current career as a Learning technologist                                                                                                                                                                 0.014302\n",
       "Back-End Web Developer,   Mobile Developer, Full-Stack Web Developer, Game Developer, Information Security,   Front-End Web Developer                                                                                     0.014302\n",
       "Data Engineer, Information Security,   Front-End Web Developer, Back-End Web Developer                                                                                                                                    0.014302\n",
       "Information Security,   Front-End Web Developer,   User Experience Designer, Back-End Web Developer,   Mobile Developer                                                                                                   0.014302\n",
       "Full-Stack Web Developer, Back-End Web Developer,   Product Manager                                                                                                                                                       0.014302\n",
       "  Front-End Web Developer, Data Engineer, Back-End Web Developer, Full-Stack Web Developer,   Mobile Developer                                                                                                            0.014302\n",
       "Back-End Web Developer, Game Developer,   Front-End Web Developer, Full-Stack Web Developer, Information Security,   Mobile Developer                                                                                     0.014302\n",
       "  Data Scientist, data analyst                                                                                                                                                                                            0.014302\n",
       "  Front-End Web Developer,   Quality Assurance Engineer, Back-End Web Developer,   Mobile Developer,   DevOps / SysAdmin, Game Developer, Full-Stack Web Developer                                                        0.014302\n",
       "Information Security,   User Experience Designer, Full-Stack Web Developer,   Data Scientist, Back-End Web Developer, Game Developer,   Front-End Web Developer, Data Engineer,   Mobile Developer,   Product Manager     0.014302\n",
       "  DevOps / SysAdmin,   Front-End Web Developer, Back-End Web Developer, Full-Stack Web Developer                                                                                                                          0.014302\n",
       "  Product Manager,   Front-End Web Developer, Full-Stack Web Developer, Information Security                                                                                                                              0.014302\n",
       "  Front-End Web Developer, Back-End Web Developer,   Mobile Developer,   User Experience Designer, Full-Stack Web Developer                                                                                               0.014302\n",
       "Full-Stack Web Developer,   Front-End Web Developer, Data Engineer,   Data Scientist, Game Developer,   Mobile Developer                                                                                                  0.014302\n",
       "  Quality Assurance Engineer,   DevOps / SysAdmin,   Data Scientist,   User Experience Designer, Information Security, Data Engineer                                                                                      0.014302\n",
       "  Front-End Web Developer,   Product Manager, Full-Stack Web Developer,   Mobile Developer                                                                                                                                0.014302\n",
       "Back-End Web Developer,   Quality Assurance Engineer, Full-Stack Web Developer,   Data Scientist, Data Engineer, Scientific Programming                                                                                   0.014302\n",
       "Game Developer, Full-Stack Web Developer,   Mobile Developer, Information Security, Cybersecurity                                                                                                                         0.014302\n",
       "  Quality Assurance Engineer,   DevOps / SysAdmin,   Front-End Web Developer, Data Engineer, Back-End Web Developer                                                                                                       0.014302\n",
       "  Mobile Developer,   Front-End Web Developer, Full-Stack Web Developer, Back-End Web Developer, Game Developer                                                                                                           0.014302\n",
       "Name: JobRoleInterest, Length: 3213, dtype: float64"
      ]
     },
     "execution_count": 74,
     "metadata": {},
     "output_type": "execute_result"
    }
   ],
   "source": [
    "# generating a frequency table as percentages\n",
    "sdata['JobRoleInterest'].value_counts(normalize = True) * 100\n"
   ]
  },
  {
   "cell_type": "markdown",
   "metadata": {},
   "source": [
    "From the frequency table we can see that majority of the sample is interested in Web development. Some people are interested in Data Science and some are interested in game, information security and so on. \n",
    "Alot of people are interested in more than one subject as well. \n",
    "To figure out how many people are interested in atleast one of web or mobile development, lets split the JobRoleInterest column.\n",
    "\n"
   ]
  },
  {
   "cell_type": "code",
   "execution_count": 75,
   "metadata": {
    "collapsed": false
   },
   "outputs": [],
   "source": [
    "# removing null values and splitting\n",
    "data_drop = sdata['JobRoleInterest'].dropna()\n",
    "job_interests = data_drop.str.split(',')\n",
    "\n"
   ]
  },
  {
   "cell_type": "code",
   "execution_count": 76,
   "metadata": {
    "collapsed": false
   },
   "outputs": [
    {
     "data": {
      "text/plain": [
       "1     31.650458\n",
       "2     10.883867\n",
       "3     15.889588\n",
       "4     15.217391\n",
       "5     12.042334\n",
       "6      6.721968\n",
       "7      3.861556\n",
       "8      1.759153\n",
       "9      0.986842\n",
       "10     0.471968\n",
       "11     0.185927\n",
       "12     0.300343\n",
       "13     0.028604\n",
       "Name: JobRoleInterest, dtype: float64"
      ]
     },
     "execution_count": 76,
     "metadata": {},
     "output_type": "execute_result"
    }
   ],
   "source": [
    "# generating a frequency table to determine how many people know what they want from the program \n",
    "options = job_interests.apply(lambda x: len(x))\n",
    "options.value_counts(normalize = True).sort_index() * 100\n",
    "\n"
   ]
  },
  {
   "cell_type": "markdown",
   "metadata": {},
   "source": [
    "We can see that 31% of the people are interested in one subject. Majority of them have mixed interests. Since we are interested in finding consumer interest in other areas, it is a good sign for us to go ahead with this data set. "
   ]
  },
  {
   "cell_type": "code",
   "execution_count": 77,
   "metadata": {
    "collapsed": false
   },
   "outputs": [
    {
     "name": "stdout",
     "output_type": "stream",
     "text": [
      "True     86.298627\n",
      "False    13.701373\n",
      "Name: JobRoleInterest, dtype: float64\n"
     ]
    }
   ],
   "source": [
    "# finding how many people are interested in atleast one of web or mobile development by looking for the string web or mobile in job_interests\n",
    "web_mobile = data_drop.str.contains('Web | Mobile')\n",
    "counts = web_mobile.value_counts(normalize = True )*100\n",
    "print(counts)\n"
   ]
  },
  {
   "cell_type": "code",
   "execution_count": 96,
   "metadata": {
    "collapsed": false
   },
   "outputs": [
    {
     "data": {
      "image/png": "[encoded data removed]",
      "text/plain": [
       "<matplotlib.figure.Figure at 0x7f0822184668>"
      ]
     },
     "metadata": {},
     "output_type": "display_data"
    }
   ],
   "source": [
    "%matplotlib inline\n",
    "import matplotlib.pyplot as plt\n",
    "plt.style.use('fivethirtyeight')\n",
    "\n",
    "counts.plot.bar()\n",
    "plt.title('Interest in Web/Mobile Development vs Others') # y pads the title upward\n",
    "plt.ylabel('Percentage', fontsize = 10)\n",
    "plt.xticks([0,1],['Web/Mobile Development', 'Others'],\n",
    "           rotation = 0) # the initial xtick labels were True and False\n",
    "plt.ylim([0,100])\n",
    "plt.show()"
   ]
  },
  {
   "cell_type": "markdown",
   "metadata": {},
   "source": [
    "We can see that more than 80% of the people are interested in atleast one of Mobile or Web Development.\n",
    "\n",
    "Next we will find the number and location of these coders.\n",
    "\n",
    "One column in our dataset can be used to figure out the location :\n",
    " 'CountryLive'\n",
    " \n",
    "Lets try to find out which countries have the maximum number of coders interested in learning these subjects."
   ]
  },
  {
   "cell_type": "code",
   "execution_count": 79,
   "metadata": {
    "collapsed": false
   },
   "outputs": [
    {
     "data": {
      "text/html": [
       "<div>\n",
       "<style scoped>\n",
       "    .dataframe tbody tr th:only-of-type {\n",
       "        vertical-align: middle;\n",
       "    }\n",
       "\n",
       "    .dataframe tbody tr th {\n",
       "        vertical-align: top;\n",
       "    }\n",
       "\n",
       "    .dataframe thead th {\n",
       "        text-align: right;\n",
       "    }\n",
       "</style>\n",
       "<table border=\"1\" class=\"dataframe\">\n",
       "  <thead>\n",
       "    <tr style=\"text-align: right;\">\n",
       "      <th></th>\n",
       "      <th>Relative frequency (%)</th>\n",
       "    </tr>\n",
       "  </thead>\n",
       "  <tbody>\n",
       "    <tr>\n",
       "      <th>United States of America</th>\n",
       "      <td>45.700497</td>\n",
       "    </tr>\n",
       "    <tr>\n",
       "      <th>India</th>\n",
       "      <td>7.721556</td>\n",
       "    </tr>\n",
       "    <tr>\n",
       "      <th>United Kingdom</th>\n",
       "      <td>4.606610</td>\n",
       "    </tr>\n",
       "    <tr>\n",
       "      <th>Canada</th>\n",
       "      <td>3.802281</td>\n",
       "    </tr>\n",
       "    <tr>\n",
       "      <th>Poland</th>\n",
       "      <td>1.915765</td>\n",
       "    </tr>\n",
       "    <tr>\n",
       "      <th>Brazil</th>\n",
       "      <td>1.886517</td>\n",
       "    </tr>\n",
       "    <tr>\n",
       "      <th>Germany</th>\n",
       "      <td>1.828020</td>\n",
       "    </tr>\n",
       "    <tr>\n",
       "      <th>Australia</th>\n",
       "      <td>1.637906</td>\n",
       "    </tr>\n",
       "    <tr>\n",
       "      <th>Russia</th>\n",
       "      <td>1.491664</td>\n",
       "    </tr>\n",
       "    <tr>\n",
       "      <th>Ukraine</th>\n",
       "      <td>1.301550</td>\n",
       "    </tr>\n",
       "    <tr>\n",
       "      <th>Nigeria</th>\n",
       "      <td>1.228429</td>\n",
       "    </tr>\n",
       "    <tr>\n",
       "      <th>Spain</th>\n",
       "      <td>1.126060</td>\n",
       "    </tr>\n",
       "    <tr>\n",
       "      <th>France</th>\n",
       "      <td>1.096812</td>\n",
       "    </tr>\n",
       "    <tr>\n",
       "      <th>Romania</th>\n",
       "      <td>1.038315</td>\n",
       "    </tr>\n",
       "    <tr>\n",
       "      <th>Netherlands (Holland, Europe)</th>\n",
       "      <td>0.950570</td>\n",
       "    </tr>\n",
       "    <tr>\n",
       "      <th>Italy</th>\n",
       "      <td>0.906698</td>\n",
       "    </tr>\n",
       "    <tr>\n",
       "      <th>Serbia</th>\n",
       "      <td>0.760456</td>\n",
       "    </tr>\n",
       "    <tr>\n",
       "      <th>Philippines</th>\n",
       "      <td>0.760456</td>\n",
       "    </tr>\n",
       "    <tr>\n",
       "      <th>Greece</th>\n",
       "      <td>0.672711</td>\n",
       "    </tr>\n",
       "    <tr>\n",
       "      <th>Ireland</th>\n",
       "      <td>0.628839</td>\n",
       "    </tr>\n",
       "    <tr>\n",
       "      <th>South Africa</th>\n",
       "      <td>0.570342</td>\n",
       "    </tr>\n",
       "    <tr>\n",
       "      <th>Mexico</th>\n",
       "      <td>0.541094</td>\n",
       "    </tr>\n",
       "    <tr>\n",
       "      <th>Turkey</th>\n",
       "      <td>0.526470</td>\n",
       "    </tr>\n",
       "    <tr>\n",
       "      <th>Hungary</th>\n",
       "      <td>0.497221</td>\n",
       "    </tr>\n",
       "    <tr>\n",
       "      <th>Singapore</th>\n",
       "      <td>0.497221</td>\n",
       "    </tr>\n",
       "    <tr>\n",
       "      <th>New Zealand</th>\n",
       "      <td>0.482597</td>\n",
       "    </tr>\n",
       "    <tr>\n",
       "      <th>Argentina</th>\n",
       "      <td>0.467973</td>\n",
       "    </tr>\n",
       "    <tr>\n",
       "      <th>Croatia</th>\n",
       "      <td>0.467973</td>\n",
       "    </tr>\n",
       "    <tr>\n",
       "      <th>Pakistan</th>\n",
       "      <td>0.453349</td>\n",
       "    </tr>\n",
       "    <tr>\n",
       "      <th>Indonesia</th>\n",
       "      <td>0.453349</td>\n",
       "    </tr>\n",
       "    <tr>\n",
       "      <th>...</th>\n",
       "      <td>...</td>\n",
       "    </tr>\n",
       "    <tr>\n",
       "      <th>Trinidad &amp; Tobago</th>\n",
       "      <td>0.014624</td>\n",
       "    </tr>\n",
       "    <tr>\n",
       "      <th>Nambia</th>\n",
       "      <td>0.014624</td>\n",
       "    </tr>\n",
       "    <tr>\n",
       "      <th>Myanmar</th>\n",
       "      <td>0.014624</td>\n",
       "    </tr>\n",
       "    <tr>\n",
       "      <th>Aruba</th>\n",
       "      <td>0.014624</td>\n",
       "    </tr>\n",
       "    <tr>\n",
       "      <th>Jordan</th>\n",
       "      <td>0.014624</td>\n",
       "    </tr>\n",
       "    <tr>\n",
       "      <th>Somalia</th>\n",
       "      <td>0.014624</td>\n",
       "    </tr>\n",
       "    <tr>\n",
       "      <th>Gambia</th>\n",
       "      <td>0.014624</td>\n",
       "    </tr>\n",
       "    <tr>\n",
       "      <th>Gibraltar</th>\n",
       "      <td>0.014624</td>\n",
       "    </tr>\n",
       "    <tr>\n",
       "      <th>Nicaragua</th>\n",
       "      <td>0.014624</td>\n",
       "    </tr>\n",
       "    <tr>\n",
       "      <th>Cameroon</th>\n",
       "      <td>0.014624</td>\n",
       "    </tr>\n",
       "    <tr>\n",
       "      <th>Mozambique</th>\n",
       "      <td>0.014624</td>\n",
       "    </tr>\n",
       "    <tr>\n",
       "      <th>Liberia</th>\n",
       "      <td>0.014624</td>\n",
       "    </tr>\n",
       "    <tr>\n",
       "      <th>Anguilla</th>\n",
       "      <td>0.014624</td>\n",
       "    </tr>\n",
       "    <tr>\n",
       "      <th>Cayman Islands</th>\n",
       "      <td>0.014624</td>\n",
       "    </tr>\n",
       "    <tr>\n",
       "      <th>Cuba</th>\n",
       "      <td>0.014624</td>\n",
       "    </tr>\n",
       "    <tr>\n",
       "      <th>Panama</th>\n",
       "      <td>0.014624</td>\n",
       "    </tr>\n",
       "    <tr>\n",
       "      <th>Turkmenistan</th>\n",
       "      <td>0.014624</td>\n",
       "    </tr>\n",
       "    <tr>\n",
       "      <th>Guadeloupe</th>\n",
       "      <td>0.014624</td>\n",
       "    </tr>\n",
       "    <tr>\n",
       "      <th>Vanuatu</th>\n",
       "      <td>0.014624</td>\n",
       "    </tr>\n",
       "    <tr>\n",
       "      <th>Angola</th>\n",
       "      <td>0.014624</td>\n",
       "    </tr>\n",
       "    <tr>\n",
       "      <th>Bolivia</th>\n",
       "      <td>0.014624</td>\n",
       "    </tr>\n",
       "    <tr>\n",
       "      <th>Kyrgyzstan</th>\n",
       "      <td>0.014624</td>\n",
       "    </tr>\n",
       "    <tr>\n",
       "      <th>Papua New Guinea</th>\n",
       "      <td>0.014624</td>\n",
       "    </tr>\n",
       "    <tr>\n",
       "      <th>Yemen</th>\n",
       "      <td>0.014624</td>\n",
       "    </tr>\n",
       "    <tr>\n",
       "      <th>Botswana</th>\n",
       "      <td>0.014624</td>\n",
       "    </tr>\n",
       "    <tr>\n",
       "      <th>Samoa</th>\n",
       "      <td>0.014624</td>\n",
       "    </tr>\n",
       "    <tr>\n",
       "      <th>Qatar</th>\n",
       "      <td>0.014624</td>\n",
       "    </tr>\n",
       "    <tr>\n",
       "      <th>Guatemala</th>\n",
       "      <td>0.014624</td>\n",
       "    </tr>\n",
       "    <tr>\n",
       "      <th>Rwanda</th>\n",
       "      <td>0.014624</td>\n",
       "    </tr>\n",
       "    <tr>\n",
       "      <th>Channel Islands</th>\n",
       "      <td>0.014624</td>\n",
       "    </tr>\n",
       "  </tbody>\n",
       "</table>\n",
       "<p>137 rows × 1 columns</p>\n",
       "</div>"
      ],
      "text/plain": [
       "                               Relative frequency (%)\n",
       "United States of America                    45.700497\n",
       "India                                        7.721556\n",
       "United Kingdom                               4.606610\n",
       "Canada                                       3.802281\n",
       "Poland                                       1.915765\n",
       "Brazil                                       1.886517\n",
       "Germany                                      1.828020\n",
       "Australia                                    1.637906\n",
       "Russia                                       1.491664\n",
       "Ukraine                                      1.301550\n",
       "Nigeria                                      1.228429\n",
       "Spain                                        1.126060\n",
       "France                                       1.096812\n",
       "Romania                                      1.038315\n",
       "Netherlands (Holland, Europe)                0.950570\n",
       "Italy                                        0.906698\n",
       "Serbia                                       0.760456\n",
       "Philippines                                  0.760456\n",
       "Greece                                       0.672711\n",
       "Ireland                                      0.628839\n",
       "South Africa                                 0.570342\n",
       "Mexico                                       0.541094\n",
       "Turkey                                       0.526470\n",
       "Hungary                                      0.497221\n",
       "Singapore                                    0.497221\n",
       "New Zealand                                  0.482597\n",
       "Argentina                                    0.467973\n",
       "Croatia                                      0.467973\n",
       "Pakistan                                     0.453349\n",
       "Indonesia                                    0.453349\n",
       "...                                               ...\n",
       "Trinidad & Tobago                            0.014624\n",
       "Nambia                                       0.014624\n",
       "Myanmar                                      0.014624\n",
       "Aruba                                        0.014624\n",
       "Jordan                                       0.014624\n",
       "Somalia                                      0.014624\n",
       "Gambia                                       0.014624\n",
       "Gibraltar                                    0.014624\n",
       "Nicaragua                                    0.014624\n",
       "Cameroon                                     0.014624\n",
       "Mozambique                                   0.014624\n",
       "Liberia                                      0.014624\n",
       "Anguilla                                     0.014624\n",
       "Cayman Islands                               0.014624\n",
       "Cuba                                         0.014624\n",
       "Panama                                       0.014624\n",
       "Turkmenistan                                 0.014624\n",
       "Guadeloupe                                   0.014624\n",
       "Vanuatu                                      0.014624\n",
       "Angola                                       0.014624\n",
       "Bolivia                                      0.014624\n",
       "Kyrgyzstan                                   0.014624\n",
       "Papua New Guinea                             0.014624\n",
       "Yemen                                        0.014624\n",
       "Botswana                                     0.014624\n",
       "Samoa                                        0.014624\n",
       "Qatar                                        0.014624\n",
       "Guatemala                                    0.014624\n",
       "Rwanda                                       0.014624\n",
       "Channel Islands                              0.014624\n",
       "\n",
       "[137 rows x 1 columns]"
      ]
     },
     "execution_count": 79,
     "metadata": {},
     "output_type": "execute_result"
    }
   ],
   "source": [
    "# dropping rows with null answers and finding absolute and relative frequencies\n",
    "country = sdata[sdata['JobRoleInterest'].notnull()]\n",
    "country_freq_rel = country['CountryLive'].value_counts(normalize = True )*100\n",
    "pd.DataFrame(data = {'Relative frequency (%)': country_freq_rel})"
   ]
  },
  {
   "cell_type": "markdown",
   "metadata": {},
   "source": [
    "We can see that the top two markets to advertise in our United States of America with 45.7% and India with 7.7%. The difference in the two markets is significant, and we should dig a little bit deeper to understand this gap. \n",
    "\n",
    "Lets figure out how much money these coders are willing to spend, to find the most profitable market."
   ]
  },
  {
   "cell_type": "markdown",
   "metadata": {},
   "source": [
    "The MoneyForLearning column describes the amount of money spent by participants to date on coding in USD. \n",
    "\n",
    "Since the cost of our subscription in $59 per month, it makes sense to figure out if people are willing to spend more than or equal to this amount.  \n",
    "\n",
    "We can focus our analysis on the top four countries with the highest frequencies: the US, India, the United Kingdom, and Canada."
   ]
  },
  {
   "cell_type": "code",
   "execution_count": 89,
   "metadata": {
    "collapsed": false
   },
   "outputs": [
    {
     "data": {
      "text/plain": [
       "0"
      ]
     },
     "execution_count": 89,
     "metadata": {},
     "output_type": "execute_result"
    }
   ],
   "source": [
    "# Replace 0s to avoid answers where people have just started coding with 1s to avoid division by 0\n",
    "country['MonthsProgramming'].replace(0,1, inplace = True)\n",
    "\n",
    "#creating a column and finding the amount per month people are willing to spend on coding\n",
    "country['moneypermonth'] = country['MoneyForLearning'] / country['MonthsProgramming']\n",
    "country['moneypermonth'].isnull().sum()"
   ]
  },
  {
   "cell_type": "code",
   "execution_count": 90,
   "metadata": {
    "collapsed": false
   },
   "outputs": [],
   "source": [
    "# finding number of null values in new column\n",
    "country = country[country['moneypermonth'].notnull()]\n",
    "\n",
    "#removing rows with null values\n",
    "country = country[country['CountryLive'].notnull()]\n",
    "\n"
   ]
  },
  {
   "cell_type": "code",
   "execution_count": 91,
   "metadata": {
    "collapsed": false
   },
   "outputs": [
    {
     "data": {
      "text/plain": [
       "CountryLive\n",
       "United States of America    106.521992\n",
       "India                        65.758763\n",
       "United Kingdom               45.534443\n",
       "Canada                       93.065400\n",
       "Name: moneypermonth, dtype: float64"
      ]
     },
     "execution_count": 91,
     "metadata": {},
     "output_type": "execute_result"
    }
   ],
   "source": [
    "# grouping the data by CountryLive to find out how much money people are spending on learning\n",
    "countries_mean = country.groupby('CountryLive').mean()\n",
    "countries_mean['moneypermonth'][['United States of America',\n",
    "                            'India', 'United Kingdom',\n",
    "                            'Canada']]\n",
    "\n"
   ]
  },
  {
   "cell_type": "code",
   "execution_count": 92,
   "metadata": {
    "collapsed": false
   },
   "outputs": [
    {
     "name": "stderr",
     "output_type": "stream",
     "text": [
      "/dataquest/system/env/python3/lib/python3.4/site-packages/seaborn/categorical.py:454: FutureWarning: remove_na is deprecated and is a private function. Do not use.\n",
      "  box_data = remove_na(group_data)\n"
     ]
    },
    {
     "data": {
      "image/png": "[encoded data removed]",
      "text/plain": [
       "<matplotlib.figure.Figure at 0x7f0822243128>"
      ]
     },
     "metadata": {},
     "output_type": "display_data"
    }
   ],
   "source": [
    "#using boxplots to identify outliers for the top 4 countries\n",
    "top_4 = country[country['CountryLive'].str.contains(\n",
    "    'United States of America|India|United Kingdom|Canada')]\n",
    "\n",
    "import seaborn as sns\n",
    "sns.boxplot(y = 'moneypermonth', x = 'CountryLive',\n",
    "            data = top_4)\n",
    "plt.title('Monthly Expenditure',\n",
    "         fontsize = 16)\n",
    "plt.ylabel('Money per month USD')\n",
    "plt.xlabel('Country')\n",
    "plt.xticks(range(4), ['US', 'UK', 'India', 'Canada']) # avoids tick labels overlap\n",
    "plt.show()"
   ]
  },
  {
   "cell_type": "code",
   "execution_count": 84,
   "metadata": {
    "collapsed": true
   },
   "outputs": [],
   "source": [
    "# removing outliers\n",
    "country = country[country['moneypermonth'] < 20000]\n"
   ]
  },
  {
   "cell_type": "code",
   "execution_count": 85,
   "metadata": {
    "collapsed": false
   },
   "outputs": [
    {
     "data": {
      "text/plain": [
       "CountryLive\n",
       "United States of America    183.800110\n",
       "India                       135.100982\n",
       "United Kingdom               45.534443\n",
       "Canada                      113.510961\n",
       "Name: moneypermonth, dtype: float64"
      ]
     },
     "execution_count": 85,
     "metadata": {},
     "output_type": "execute_result"
    }
   ],
   "source": [
    "# recalculating the mean\n",
    "countries_mean = country.groupby('CountryLive').mean()\n",
    "countries_mean['moneypermonth'][['United States of America',\n",
    "                            'India', 'United Kingdom',\n",
    "                            'Canada']]\n"
   ]
  },
  {
   "cell_type": "code",
   "execution_count": 86,
   "metadata": {
    "collapsed": false
   },
   "outputs": [
    {
     "name": "stderr",
     "output_type": "stream",
     "text": [
      "/dataquest/system/env/python3/lib/python3.4/site-packages/seaborn/categorical.py:454: FutureWarning: remove_na is deprecated and is a private function. Do not use.\n",
      "  box_data = remove_na(group_data)\n"
     ]
    },
    {
     "data": {
      "image/png": "[encoded data removed]",
      "text/plain": [
       "<matplotlib.figure.Figure at 0x7f081ae1ae48>"
      ]
     },
     "metadata": {},
     "output_type": "display_data"
    }
   ],
   "source": [
    "top_4 = country[country['CountryLive'].str.contains(\n",
    "    'United States of America|India|United Kingdom|Canada')]\n",
    "\n",
    "sns.boxplot(y = 'moneypermonth', x = 'CountryLive',\n",
    "            data = top_4)\n",
    "plt.title('Monthly Expenditure',\n",
    "         fontsize = 16)\n",
    "plt.ylabel('Money per month USD')\n",
    "plt.xlabel('Country')\n",
    "plt.xticks(range(4), ['US', 'UK', 'India', 'Canada']) # avoids tick labels overlap\n",
    "plt.show()\n",
    "\n",
    "\n",
    "\n",
    "\n"
   ]
  },
  {
   "cell_type": "markdown",
   "metadata": {},
   "source": [
    "We can see that customers are willing to pay the most in Canada and India. Before finalizaing these as the best markets, lets find out the number of potential customers in each country. \n",
    "\n",
    "We can also spot some outliers for the US(2000-17000/month), India (10000/month), and Canada (5000/month). Let's eliminate the outliers by only selecting expenditures less than 3000 and recompute the means."
   ]
  },
  {
   "cell_type": "code",
   "execution_count": 87,
   "metadata": {
    "collapsed": false
   },
   "outputs": [
    {
     "name": "stderr",
     "output_type": "stream",
     "text": [
      "/dataquest/system/env/python3/lib/python3.4/site-packages/seaborn/categorical.py:454: FutureWarning: remove_na is deprecated and is a private function. Do not use.\n",
      "  box_data = remove_na(group_data)\n"
     ]
    },
    {
     "data": {
      "image/png": "[encoded data removed]",
      "text/plain": [
       "<matplotlib.figure.Figure at 0x7f081970a860>"
      ]
     },
     "metadata": {},
     "output_type": "display_data"
    }
   ],
   "source": [
    "#removing outliers\n",
    "country = country[country['moneypermonth'] < 3000]\n",
    "#recomputing the means\n",
    "countries_mean = country.groupby('CountryLive').mean()\n",
    "countries_mean['moneypermonth'][['United States of America',\n",
    "                            'India', 'United Kingdom',\n",
    "                            'Canada']]\n",
    "#selecting top 4 countries\n",
    "top_4 = country[country['CountryLive'].str.contains(\n",
    "    'United States of America|India|United Kingdom|Canada')]\n",
    "\n",
    "# box plot \n",
    "sns.boxplot(y = 'moneypermonth', x = 'CountryLive',\n",
    "            data = top_4)\n",
    "plt.title('Monthly Expenditure',\n",
    "         fontsize = 16)\n",
    "plt.ylabel('Money per month USD')\n",
    "plt.xlabel('Country')\n",
    "plt.xticks(range(4), ['US', 'UK', 'India', 'Canada']) # avoids tick labels overlap\n",
    "plt.show()\n",
    "\n",
    "\n"
   ]
  },
  {
   "cell_type": "markdown",
   "metadata": {},
   "source": [
    "Now we can finally conclude that US and Canada seem like the best markets to advertise in, since the people there are willing to spend the most on learning. \n",
    "\n",
    "However the amount of money that Canadians are willing to pay ($113.5) for E-learning does not differ significantly from what Indians are willing to pay ($135.1). \n",
    "\n",
    "To choose the second best market, we must examine the number of potential customers for both the countries for maximizing profit and allocating budget respectively. Since we don't have enough data for that, we can choose to advertise in US only for now.\n",
    "\n"
   ]
  }
 ],
 "metadata": {
  "kernelspec": {
   "display_name": "Python 3",
   "language": "python",
   "name": "python3"
  },
  "language_info": {
   "codemirror_mode": {
    "name": "ipython",
    "version": 3
   },
   "file_extension": ".py",
   "mimetype": "text/x-python",
   "name": "python",
   "nbconvert_exporter": "python",
   "pygments_lexer": "ipython3",
   "version": "3.4.3"
  }
 },
 "nbformat": 4,
 "nbformat_minor": 2
}
